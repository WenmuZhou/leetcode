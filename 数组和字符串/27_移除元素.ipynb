{
 "cells": [
  {
   "cell_type": "markdown",
   "metadata": {},
   "source": [
    "此题为leetcode[27题](https://leetcode-cn.com/problems/remove-element/)"
   ]
  },
  {
   "cell_type": "code",
   "execution_count": null,
   "metadata": {},
   "outputs": [],
   "source": [
    "class Solution(object):\n",
    "    def removeElement(self, nums, val):\n",
    "        \"\"\"\n",
    "        :type nums: List[int]\n",
    "        :type val: int\n",
    "        :rtype: int\n",
    "        \"\"\"\n",
    "        while val in nums:\n",
    "            nums.pop(nums.index(val))\n",
    "        return len(nums) "
   ]
  }
 ],
 "metadata": {
  "kernelspec": {
   "display_name": "Python 3",
   "language": "python",
   "name": "python3"
  },
  "language_info": {
   "codemirror_mode": {
    "name": "ipython",
    "version": 3
   },
   "file_extension": ".py",
   "mimetype": "text/x-python",
   "name": "python",
   "nbconvert_exporter": "python",
   "pygments_lexer": "ipython3",
   "version": "3.6.7"
  }
 },
 "nbformat": 4,
 "nbformat_minor": 2
}
