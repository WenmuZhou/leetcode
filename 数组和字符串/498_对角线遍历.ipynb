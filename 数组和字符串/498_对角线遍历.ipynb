{
 "cells": [
  {
   "cell_type": "markdown",
   "metadata": {},
   "source": [
    "## 此题为leetcode [第498题](https://leetcode-cn.com/problems/diagonal-traverse/)"
   ]
  },
  {
   "cell_type": "markdown",
   "metadata": {},
   "source": [
    "思路：[[1,2,3] \n",
    "\n",
    "[4,5,6] \n",
    "\n",
    "[7,8,9]]  \n",
    "\n",
    "1 先不管输出顺序，把对角线上的元素输出[[1],[2,4],[3,5,7],[6,8],[9]] \n",
    "\n",
    "2 把上面输出的，输出方向一个取正，一个取反"
   ]
  },
  {
   "cell_type": "code",
   "execution_count": 4,
   "metadata": {},
   "outputs": [],
   "source": [
    "class Solution(object):\n",
    "    def findDiagonalOrder(self, matrix):\n",
    "        \"\"\"\n",
    "        :type matrix: List[List[int]]\n",
    "        :rtype: List[int]\n",
    "        \"\"\"\n",
    "        if not matrix:\n",
    "            return []\n",
    "        m = len(matrix)\n",
    "        n = len(matrix[0])\n",
    "        max_mn = m+n-1\n",
    "        # i = 0\n",
    "        # j = 0\n",
    "        res_index = []\n",
    "        print(max_mn)\n",
    "        flag = 0\n",
    "        for sum_ij in range(max_mn):\n",
    "            i = flag\n",
    "            j = sum_ij - flag\n",
    "            if j == n:\n",
    "                flag += 1\n",
    "                i = flag\n",
    "                \n",
    "                j = sum_ij-flag\n",
    "                # print(\"j==n:\",i,j)\n",
    "            temp = []\n",
    "            # print(i, j)\n",
    "            # print(\"----\")\n",
    "            while 0 <=i< m and 0 <=j< n:\n",
    "                temp.append(matrix[i][j])\n",
    "                i += 1\n",
    "                j -= 1\n",
    "                # print(i, j)\n",
    "            res_index.append(temp)\n",
    "        l = len(res_index)\n",
    "        res = []\n",
    "        # 偶数取反,奇数取正\n",
    "        for k in range(l):\n",
    "            if k%2 == 0:\n",
    "                res.extend(res_index[k][::-1])\n",
    "            else:\n",
    "                res.extend(res_index[k])\n",
    "        return res"
   ]
  },
  {
   "cell_type": "code",
   "execution_count": 5,
   "metadata": {},
   "outputs": [
    {
     "name": "stdout",
     "output_type": "stream",
     "text": [
      "5\n",
      "[1, 2, 4, 7, 5, 3, 6, 8, 9]\n"
     ]
    }
   ],
   "source": [
    "s = Solution()\n",
    "nums = [[1,2,3],[4,5,6],[7,8,9]]\n",
    "k=s.findDiagonalOrder(nums)\n",
    "print(k)"
   ]
  },
  {
   "cell_type": "code",
   "execution_count": null,
   "metadata": {},
   "outputs": [],
   "source": []
  }
 ],
 "metadata": {
  "kernelspec": {
   "display_name": "Python 3",
   "language": "python",
   "name": "python3"
  },
  "language_info": {
   "codemirror_mode": {
    "name": "ipython",
    "version": 3
   },
   "file_extension": ".py",
   "mimetype": "text/x-python",
   "name": "python",
   "nbconvert_exporter": "python",
   "pygments_lexer": "ipython3",
   "version": "3.6.7"
  }
 },
 "nbformat": 4,
 "nbformat_minor": 2
}
