{
 "cells": [
  {
   "cell_type": "markdown",
   "metadata": {},
   "source": [
    "此题为leetcode[第485题](https://leetcode-cn.com/problems/max-consecutive-ones/)"
   ]
  },
  {
   "cell_type": "markdown",
   "metadata": {},
   "source": [
    "解题思路：遍历一遍取出数组中0的位置，组成一个列表List \n",
    "\n",
    "\n",
    "        1）如果列表为空，说明数组中没有0，返回二进制数组长度就行；\n",
    "\n",
    "\n",
    "        2）如果列表非空，考虑到接下来需要进行减法计算，给List添加头-1，尾添加数组长度len(nums)作为下标\n",
    "\n",
    "\n",
    "        3）利用List计算后一项减去前一项再减去1的值就是列表中每一段的1的个数，返回最大的即可"
   ]
  },
  {
   "cell_type": "code",
   "execution_count": null,
   "metadata": {},
   "outputs": [],
   "source": [
    "class Solution(object):\n",
    "    def findMaxConsecutiveOnes(self, nums):\n",
    "        \"\"\"\n",
    "        :type nums: List[int]\n",
    "        :rtype: int\n",
    "        \"\"\"\n",
    "        List = []\n",
    "        List_last = []\n",
    "        for i in range(len(nums)):\n",
    "            if nums[i] == 0:\n",
    "                List.append(i)\n",
    "            else:\n",
    "                pass\n",
    "        if len(List) == 0:\n",
    "            return len(nums)\n",
    "        else:\n",
    "            List.insert(0,-1)\n",
    "            List.append(len(nums))\n",
    "            for i in range(1,len(List)):\n",
    "                List_last.append(List[i]-List[i-1])\n",
    "        return (max(List_last)-1)"
   ]
  }
 ],
 "metadata": {
  "kernelspec": {
   "display_name": "Python 3",
   "language": "python",
   "name": "python3"
  },
  "language_info": {
   "codemirror_mode": {
    "name": "ipython",
    "version": 3
   },
   "file_extension": ".py",
   "mimetype": "text/x-python",
   "name": "python",
   "nbconvert_exporter": "python",
   "pygments_lexer": "ipython3",
   "version": "3.6.7"
  }
 },
 "nbformat": 4,
 "nbformat_minor": 2
}
