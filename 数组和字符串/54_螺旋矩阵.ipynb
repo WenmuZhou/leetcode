{
 "cells": [
  {
   "cell_type": "markdown",
   "metadata": {},
   "source": [
    "## 此题为leetcode [第54题](https://leetcode-cn.com/problems/spiral-matrix/)"
   ]
  },
  {
   "cell_type": "markdown",
   "metadata": {},
   "source": [
    "思路：\n",
    "\n",
    "设置四种case，观察到第一种case是行不变列一直在变，第二种case的列数不变行数变，以此类推\n",
    "\n",
    "第一次遍历的个数等于列数，第二次遍历的个数等于行数减一，第三次等于列数减一，第四次等于行数再减一。。。"
   ]
  },
  {
   "cell_type": "code",
   "execution_count": 5,
   "metadata": {},
   "outputs": [],
   "source": [
    "class Solution:\n",
    "    def spiralOrder(self, matrix):\n",
    "        \"\"\"\n",
    "        :type matrix: List[List[int]]\n",
    "        :rtype: List[int]\n",
    "        \"\"\"\n",
    "        def cyc(row, column, ri, ci, case):\n",
    "            #递归终止条件\n",
    "            if row == 0 or column == 0:\n",
    "                return\n",
    "            #第一种case,横着走\n",
    "            if case == 0:\n",
    "                #结束的位置的column\n",
    "                endci = ci + column\n",
    "                for i in range(ci, endci):\n",
    "                    #添加元素\n",
    "                    re.append(matrix[ri][i])\n",
    "                #横移后row的长度减一\n",
    "                row -= 1\n",
    "                ri += 1\n",
    "                ci = endci-1\n",
    "                #我们想让case 不断增加但在0-4内循环\n",
    "                case = (case + 1)%4\n",
    "                cyc(row, column, ri, ci, case)\n",
    " \n",
    "            elif case == 1:\n",
    "                endri = ri + row\n",
    "                for i in range(ri, endri):\n",
    "                    re.append(matrix[i][ci])\n",
    "                column -= 1\n",
    "                ci -= 1\n",
    "                ri = endri-1\n",
    "                case = (case+1)%4\n",
    "                cyc(row, column, ri, ci, case)\n",
    " \n",
    "            elif case == 2:\n",
    "                endci = ci - column\n",
    "                for i in range(ci, endci, -1):\n",
    "                    re.append(matrix[ri][i])\n",
    "                row -= 1\n",
    "                ri = ri - 1\n",
    "                ci = endci + 1\n",
    "                case = (case+1)%4\n",
    "                cyc(row, column, ri, ci, case)\n",
    " \n",
    "            elif case == 3:\n",
    "                endri = ri - row\n",
    "                for i in range(ri, endri, -1):\n",
    "                    re.append(matrix[i][ci])\n",
    "                column -= 1\n",
    "                ri = endri + 1\n",
    "                ci = ci + 1\n",
    "                case = (case+1)%4\n",
    "                cyc(row, column, ri, ci, case)\n",
    " \n",
    "        re = []\n",
    "        row = len(matrix)\n",
    "        if row == 0:\n",
    "            return []\n",
    "        column = len(matrix[0])\n",
    "        cyc(row, column, 0, 0, 0)\n",
    "        return re"
   ]
  },
  {
   "cell_type": "code",
   "execution_count": 6,
   "metadata": {},
   "outputs": [
    {
     "name": "stdout",
     "output_type": "stream",
     "text": [
      "[1, 2, 3, 6, 9, 8, 7, 4, 5]\n"
     ]
    }
   ],
   "source": [
    "s = Solution()\n",
    "nums = [[1,2,3],[4,5,6],[7,8,9]]\n",
    "k=s.spiralOrder(nums)\n",
    "print(k)"
   ]
  },
  {
   "cell_type": "code",
   "execution_count": null,
   "metadata": {},
   "outputs": [],
   "source": []
  }
 ],
 "metadata": {
  "kernelspec": {
   "display_name": "Python 3",
   "language": "python",
   "name": "python3"
  },
  "language_info": {
   "codemirror_mode": {
    "name": "ipython",
    "version": 3
   },
   "file_extension": ".py",
   "mimetype": "text/x-python",
   "name": "python",
   "nbconvert_exporter": "python",
   "pygments_lexer": "ipython3",
   "version": "3.6.7"
  }
 },
 "nbformat": 4,
 "nbformat_minor": 2
}
