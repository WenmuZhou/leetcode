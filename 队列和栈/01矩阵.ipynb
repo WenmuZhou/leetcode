{
 "cells": [
  {
   "cell_type": "markdown",
   "metadata": {},
   "source": [
    "## 01矩阵 [542](https://leetcode-cn.com/problems/01-matrix/)\n",
    "\n",
    "解题思路：不详"
   ]
  },
  {
   "cell_type": "code",
   "execution_count": 12,
   "metadata": {},
   "outputs": [],
   "source": [
    "import collections\n",
    "import operator\n",
    "\n",
    "class Solution(object):\n",
    "    def updateMatrix(self, matrix):\n",
    "        \"\"\"\n",
    "        :type matrix: List[List[int]]\n",
    "        :rtype: List[List[int]]\n",
    "        \"\"\"\n",
    "        deque = collections.deque([])\n",
    "\n",
    "        for i in range(len(matrix)):\n",
    "            for j in range(len(matrix[0])):\n",
    "                if matrix[i][j] == 0:\n",
    "                    deque.append((i, j))\n",
    "                else:\n",
    "                    matrix[i][j] = float('inf')\n",
    "\n",
    "        directions = [(0, 1), (1, 0), (0, -1), (-1, 0)]\n",
    "        while deque:\n",
    "            zero_P = deque.popleft()\n",
    "            for d in directions:\n",
    "                new_d = tuple(map(operator.add, d, zero_P))\n",
    "                if not (0 <= new_d[0] < len(matrix)) or not (0 <= new_d[1] < len(matrix[0])) \\\n",
    "                        or (matrix[new_d[0]][new_d[1]] <= matrix[zero_P[0]][zero_P[1]] + 1):\n",
    "                    continue\n",
    "                else:\n",
    "                    matrix[new_d[0]][new_d[1]] = matrix[zero_P[0]][zero_P[1]] + 1\n",
    "                    deque.append(new_d)\n",
    "\n",
    "        return matrix"
   ]
  },
  {
   "cell_type": "code",
   "execution_count": 13,
   "metadata": {},
   "outputs": [
    {
     "data": {
      "text/plain": [
       "[[0, 0, 0], [0, 1, 0], [1, 2, 1]]"
      ]
     },
     "execution_count": 13,
     "metadata": {},
     "output_type": "execute_result"
    }
   ],
   "source": [
    "s=Solution()\n",
    "s.updateMatrix([[0,0,0],[0,1,0],[1,1,1]])"
   ]
  }
 ],
 "metadata": {
  "kernelspec": {
   "display_name": "Python 3",
   "language": "python",
   "name": "python3"
  },
  "language_info": {
   "codemirror_mode": {
    "name": "ipython",
    "version": 3
   },
   "file_extension": ".py",
   "mimetype": "text/x-python",
   "name": "python",
   "nbconvert_exporter": "python",
   "pygments_lexer": "ipython3",
   "version": "3.5.2"
  }
 },
 "nbformat": 4,
 "nbformat_minor": 2
}
