{
 "cells": [
  {
   "cell_type": "markdown",
   "metadata": {},
   "source": [
    "此题为leetcode [第225题](https://leetcode-cn.com/problems/implement-stack-using-queues/)"
   ]
  },
  {
   "cell_type": "markdown",
   "metadata": {},
   "source": [
    "代码"
   ]
  },
  {
   "cell_type": "code",
   "execution_count": 1,
   "metadata": {},
   "outputs": [
    {
     "name": "stdout",
     "output_type": "stream",
     "text": [
      "None\n",
      "None\n",
      "2\n",
      "2\n",
      "False\n"
     ]
    }
   ],
   "source": [
    "class MyStack:\n",
    "\n",
    "    def __init__(self):\n",
    "        self.queueA = []\n",
    "        self.queueB = []\n",
    "\n",
    "    def push(self, node):\n",
    "        self.queueA.insert(0, node)\n",
    "\n",
    "    def pop(self):\n",
    "        if self.empty():\n",
    "            return None\n",
    "        while len(self.queueA) != 0:\n",
    "            self.queueB.append(self.queueA.pop())\n",
    "        return self.queueB.pop()\n",
    "\n",
    "    def top(self):\n",
    "        \"\"\"\n",
    "        Get the top element.\n",
    "        :rtype: int\n",
    "        \"\"\"\n",
    "        if self.empty():\n",
    "            return None\n",
    "        while len(self.queueA) != 0:\n",
    "            self.queueB.append(self.queueA.pop())\n",
    "        return self.queueB[-1]\n",
    "\n",
    "    def empty(self):\n",
    "        \"\"\"\n",
    "        Returns whether the stack is empty.\n",
    "        :rtype: bool\n",
    "        \"\"\"\n",
    "        return len(self.queueA) == 0 and len(self.queueB) == 0\n",
    "\n",
    "if __name__ == '__main__':\n",
    "    obj = MyStack()\n",
    "    print(obj.push(1))\n",
    "    print(obj.push(2))\n",
    "    print(obj.top())\n",
    "    print(obj.pop())\n",
    "    print(obj.empty())"
   ]
  },
  {
   "cell_type": "code",
   "execution_count": null,
   "metadata": {},
   "outputs": [],
   "source": []
  }
 ],
 "metadata": {
  "kernelspec": {
   "display_name": "Python 3",
   "language": "python",
   "name": "python3"
  },
  "language_info": {
   "codemirror_mode": {
    "name": "ipython",
    "version": 3
   },
   "file_extension": ".py",
   "mimetype": "text/x-python",
   "name": "python",
   "nbconvert_exporter": "python",
   "pygments_lexer": "ipython3",
   "version": "3.7.0"
  }
 },
 "nbformat": 4,
 "nbformat_minor": 2
}
