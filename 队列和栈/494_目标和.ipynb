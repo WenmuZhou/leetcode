{
 "cells": [
  {
   "cell_type": "markdown",
   "metadata": {},
   "source": [
    "## 目标和 [494题](https://leetcode-cn.com/problems/target-sum/) \n",
    "\n",
    "解题思路： 采用dp的思想，数组中后一个值累积到X的路 根据之前的一个值的状态决定"
   ]
  },
  {
   "cell_type": "code",
   "execution_count": 5,
   "metadata": {},
   "outputs": [],
   "source": [
    "class Solution:\n",
    "    def findTargetSumWays(self, nums, S):\n",
    "        \"\"\"\n",
    "        :type nums: List[int]\n",
    "        :type S: int\n",
    "        :rtype: int\n",
    "        \"\"\"\n",
    "        import collections\n",
    "        _len = len(nums)\n",
    "        dp = [collections.defaultdict(int) for _ in range(_len + 1)] # dp[i][j] 表示在nums中计算到第i个值时达到j有几条路\n",
    "        dp[0][0] = 1\n",
    "        for i, num in enumerate(nums):\n",
    "            for sum, cnt in dp[i].items():\n",
    "                dp[i + 1][sum + num] += cnt\n",
    "                dp[i + 1][sum - num] += cnt\n",
    "        return dp[_len][S]"
   ]
  },
  {
   "cell_type": "code",
   "execution_count": 7,
   "metadata": {},
   "outputs": [
    {
     "data": {
      "text/plain": [
       "5"
      ]
     },
     "execution_count": 7,
     "metadata": {},
     "output_type": "execute_result"
    }
   ],
   "source": [
    "s = Solution()\n",
    "nums=[1, 1, 1, 1, 1]\n",
    "S = 3\n",
    "s.findTargetSumWays(nums,S)"
   ]
  },
  {
   "cell_type": "code",
   "execution_count": null,
   "metadata": {},
   "outputs": [],
   "source": []
  }
 ],
 "metadata": {
  "kernelspec": {
   "display_name": "Python 3",
   "language": "python",
   "name": "python3"
  },
  "language_info": {
   "codemirror_mode": {
    "name": "ipython",
    "version": 3
   },
   "file_extension": ".py",
   "mimetype": "text/x-python",
   "name": "python",
   "nbconvert_exporter": "python",
   "pygments_lexer": "ipython3",
   "version": "3.7.0"
  }
 },
 "nbformat": 4,
 "nbformat_minor": 2
}
