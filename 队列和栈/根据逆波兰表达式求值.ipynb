{
 "cells": [
  {
   "cell_type": "code",
   "execution_count": null,
   "metadata": {},
   "outputs": [],
   "source": [
    "150题根据逆波兰表示法，求表达式的值https://leetcode-cn.com/problems/evaluate-reverse-polish-notation/"
   ]
  },
  {
   "cell_type": "code",
   "execution_count": null,
   "metadata": {},
   "outputs": [],
   "source": [
    "class Solution(object):\n",
    "    def evalRPN(self, tokens):\n",
    "        \"\"\"\n",
    "        :type tokens: List[str]\n",
    "        :rtype: int\n",
    "        \"\"\"\n",
    "\n",
    "        stack = []\n",
    "        for c in tokens:\n",
    "          if c in '+-*':\n",
    "            i2 = stack.pop()\n",
    "            i1 = stack.pop()\n",
    "            print (i1,c,i2)\n",
    "            print (eval('%s'*3 % (i1,c,i2)))\n",
    "            stack.append(eval('%s'*3 % (i1,c,i2)))\n",
    "          else:\n",
    "            stack.append(c)\n",
    "        print (stack[0])\n",
    "        return stack[0]"
   ]
  },
  {
   "cell_type": "code",
   "execution_count": 2,
   "metadata": {},
   "outputs": [
    {
     "name": "stdout",
     "output_type": "stream",
     "text": [
      "2 + 1\n",
      "3\n",
      "3 * 3\n",
      "9\n",
      "9\n",
      "9\n"
     ]
    }
   ],
   "source": [
    "    solution = Solution()\n",
    "    s=['2','1','+','3','*']\n",
    "    step = solution.evalRPN(s)\n",
    "    print(step)\n"
   ]
  }
 ],
 "metadata": {
  "kernelspec": {
   "display_name": "Python 3",
   "language": "python",
   "name": "python3"
  },
  "language_info": {
   "codemirror_mode": {
    "name": "ipython",
    "version": 3
   },
   "file_extension": ".py",
   "mimetype": "text/x-python",
   "name": "python",
   "nbconvert_exporter": "python",
   "pygments_lexer": "ipython3",
   "version": "3.5.2"
  }
 },
 "nbformat": 4,
 "nbformat_minor": 2
}
