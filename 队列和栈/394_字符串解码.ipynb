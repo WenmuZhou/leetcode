{
 "cells": [
  {
   "cell_type": "markdown",
   "metadata": {},
   "source": [
    "## 字符串解码 [394题](https://leetcode-cn.com/problems/decode-string/) \n",
    "\n",
    "解题思路：利用两个栈实现（其中一个用于数字的操作，另一个用于其他操作）"
   ]
  },
  {
   "cell_type": "code",
   "execution_count": 3,
   "metadata": {},
   "outputs": [],
   "source": [
    "class Solution(object):\n",
    "    def decodeString(self, s):\n",
    "        \"\"\"\n",
    "        :type s: str\n",
    "        :rtype: str\n",
    "        \"\"\"\n",
    "        nums, chars = [], []\n",
    "        i, length = 0, len(s)\n",
    "        while i < length:\n",
    "            j = i + 1\n",
    "            if s[i].isdigit():\n",
    "                num = int(s[i])\n",
    "                while j < length:\n",
    "                    if s[j].isdigit():\n",
    "                        num = num * 10 + int(s[j])\n",
    "                        j += 1\n",
    "                    else:\n",
    "                        break\n",
    "                nums.append(num)\n",
    "            elif s[i] == '[' or s[i].isalpha():\n",
    "                chars.append(s[i])\n",
    "            else:\n",
    "                t, tmpc = chars.pop(), []\n",
    "                while t != '[':\n",
    "                    tmpc.append(t)\n",
    "                    t = chars.pop()\n",
    "                tchars = nums.pop() * ''.join(tmpc[::-1])\n",
    "                chars.append(tchars)\n",
    "            i = j\n",
    "        return ''.join(chars)"
   ]
  },
  {
   "cell_type": "code",
   "execution_count": 8,
   "metadata": {},
   "outputs": [
    {
     "data": {
      "text/plain": [
       "'aaabcbc'"
      ]
     },
     "execution_count": 8,
     "metadata": {},
     "output_type": "execute_result"
    }
   ],
   "source": [
    "s=Solution()\n",
    "s.decodeString('3[a]2[bc]')"
   ]
  }
 ],
 "metadata": {
  "kernelspec": {
   "display_name": "Python 3",
   "language": "python",
   "name": "python3"
  },
  "language_info": {
   "codemirror_mode": {
    "name": "ipython",
    "version": 3
   },
   "file_extension": ".py",
   "mimetype": "text/x-python",
   "name": "python",
   "nbconvert_exporter": "python",
   "pygments_lexer": "ipython3",
   "version": "3.7.0"
  }
 },
 "nbformat": 4,
 "nbformat_minor": 2
}
