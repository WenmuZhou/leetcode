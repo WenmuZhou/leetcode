{
 "cells": [
  {
   "cell_type": "markdown",
   "metadata": {},
   "source": [
    "此题为leetcode [第739题](https://leetcode-cn.com/problems/daily-temperatures/)"
   ]
  },
  {
   "cell_type": "markdown",
   "metadata": {},
   "source": [
    "最开始，想到的解法是 循环大法"
   ]
  },
  {
   "cell_type": "code",
   "execution_count": 9,
   "metadata": {},
   "outputs": [],
   "source": [
    "class Solution:\n",
    "    def dailyTemperatures(self, temperatures):\n",
    "        \"\"\"\n",
    "        :type temperatures: List[int]\n",
    "        :rtype: List[int]\n",
    "        \"\"\"\n",
    "        l = len(temperatures)\n",
    "        if l == 1:\n",
    "            return [0]\n",
    "        result = []\n",
    "        for i in range(l):\n",
    "            t = 1\n",
    "            flag = False\n",
    "            for j in range(i + 1, l):\n",
    "                if temperatures[j] <= temperatures[i]:\n",
    "                    t += 1\n",
    "                else:\n",
    "                    flag = True\n",
    "                    break\n",
    "            if not flag:\n",
    "                t = 0\n",
    "            result.append(t)\n",
    "        return result"
   ]
  },
  {
   "cell_type": "markdown",
   "metadata": {},
   "source": [
    "不出意外，出现了超时\n",
    "![超时](imgs/739_超时.png)"
   ]
  },
  {
   "cell_type": "markdown",
   "metadata": {},
   "source": [
    "考虑到这个题目属于栈专题，因此需要优先使用栈的思想来解决问题\n",
    "\n",
    "1. 创建一个空栈:S\n",
    "2. 遍历温度列表\n",
    "3. - S为空，或者S的栈顶元素s_top < 当前遍历是元素t时：\n",
    "    - 执行出站操作，并根据t的天数和s_top的天数来更新s_top温度上升需要的天数，直到s_top的温度比t大\n",
    "  - 否则\n",
    "    - 执行进栈操作，进栈元素为(温度，天数) "
   ]
  },
  {
   "cell_type": "markdown",
   "metadata": {},
   "source": [
    "代码如下"
   ]
  },
  {
   "cell_type": "code",
   "execution_count": 17,
   "metadata": {},
   "outputs": [],
   "source": [
    "class Solution:\n",
    "    def dailyTemperatures(self, temperatures):\n",
    "        \"\"\"\n",
    "        :type temperatures: List[int]\n",
    "        :rtype: List[int]\n",
    "        \"\"\"\n",
    "        l = len(temperatures)\n",
    "        if l == 1:\n",
    "            return [0]\n",
    "        result = [0] * l\n",
    "        stack = []\n",
    "        for i,t in enumerate(temperatures):\n",
    "            print(\"当前遍历元素 {} {}\".format(i,t))\n",
    "            while stack and t > stack[-1][1]:\n",
    "                index = stack.pop()[0]\n",
    "                result[index] = i - index\n",
    "                print(\"执行出站操作之后：{}  {}\".format(result,stack))\n",
    "            stack.append((i,t))\n",
    "            print(\"执行入站操作：{}\".format(stack))\n",
    "        return result"
   ]
  },
  {
   "cell_type": "code",
   "execution_count": 18,
   "metadata": {},
   "outputs": [
    {
     "name": "stdout",
     "output_type": "stream",
     "text": [
      "当前遍历元素 0 73\n",
      "执行入站操作：[(0, 73)]\n",
      "当前遍历元素 1 74\n",
      "执行出站操作之后：[1, 0, 0, 0, 0, 0, 0, 0]  []\n",
      "执行入站操作：[(1, 74)]\n",
      "当前遍历元素 2 75\n",
      "执行出站操作之后：[1, 1, 0, 0, 0, 0, 0, 0]  []\n",
      "执行入站操作：[(2, 75)]\n",
      "当前遍历元素 3 71\n",
      "执行入站操作：[(2, 75), (3, 71)]\n",
      "当前遍历元素 4 69\n",
      "执行入站操作：[(2, 75), (3, 71), (4, 69)]\n",
      "当前遍历元素 5 72\n",
      "执行出站操作之后：[1, 1, 0, 0, 1, 0, 0, 0]  [(2, 75), (3, 71)]\n",
      "执行出站操作之后：[1, 1, 0, 2, 1, 0, 0, 0]  [(2, 75)]\n",
      "执行入站操作：[(2, 75), (5, 72)]\n",
      "当前遍历元素 6 76\n",
      "执行出站操作之后：[1, 1, 0, 2, 1, 1, 0, 0]  [(2, 75)]\n",
      "执行出站操作之后：[1, 1, 4, 2, 1, 1, 0, 0]  []\n",
      "执行入站操作：[(6, 76)]\n",
      "当前遍历元素 7 73\n",
      "执行入站操作：[(6, 76), (7, 73)]\n",
      "[1, 1, 4, 2, 1, 1, 0, 0]\n"
     ]
    }
   ],
   "source": [
    "s = Solution()\n",
    "print(s.dailyTemperatures([73,74,75,71,69,72,76,73]))"
   ]
  },
  {
   "cell_type": "code",
   "execution_count": null,
   "metadata": {},
   "outputs": [],
   "source": []
  }
 ],
 "metadata": {
  "kernelspec": {
   "display_name": "Python 3",
   "language": "python",
   "name": "python3"
  },
  "language_info": {
   "codemirror_mode": {
    "name": "ipython",
    "version": 3
   },
   "file_extension": ".py",
   "mimetype": "text/x-python",
   "name": "python",
   "nbconvert_exporter": "python",
   "pygments_lexer": "ipython3",
   "version": "3.7.0"
  }
 },
 "nbformat": 4,
 "nbformat_minor": 2
}
