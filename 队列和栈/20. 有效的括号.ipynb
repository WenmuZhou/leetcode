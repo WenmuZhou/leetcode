{
 "cells": [
  {
   "cell_type": "markdown",
   "metadata": {
    "collapsed": true
   },
   "source": [
    "此题为leetcode [第20题](https://leetcode-cn.com/problems/valid-parentheses/)"
   ]
  },
  {
   "cell_type": "markdown",
   "metadata": {},
   "source": [
    "代码如下"
   ]
  },
  {
   "cell_type": "markdown",
   "metadata": {},
   "source": [
    "解题思路：\n",
    "1. 遍历字符串\n",
    "2. \n",
    "  - 如果栈为空或者当前元素不能喝栈顶元素组成括号\n",
    "  -入栈\n",
    "    1. 能组成括号：\n",
    "  - 将栈顶元素出站"
   ]
  },
  {
   "cell_type": "code",
   "execution_count": 1,
   "metadata": {},
   "outputs": [],
   "source": [
    "class Solution:\n",
    "    def isValid(self, s):\n",
    "        \"\"\"\n",
    "        :type s: str\n",
    "        :rtype: bool\n",
    "        \"\"\"\n",
    "        d =  {')':'(','}':'{',']':'['}\n",
    "        t = []\n",
    "        for c in s:\n",
    "            if len(t) > 0 and c in d.keys() and d[c]==t[-1]:\n",
    "                t.pop()\n",
    "            else:\n",
    "                t.append(c)\n",
    "        return len(t)==0"
   ]
  },
  {
   "cell_type": "code",
   "execution_count": 4,
   "metadata": {},
   "outputs": [
    {
     "name": "stdout",
     "output_type": "stream",
     "text": [
      "False\n"
     ]
    }
   ],
   "source": [
    "\n",
    "s = Solution()\n",
    "print(s.isValid('){'))"
   ]
  }
 ],
 "metadata": {
  "kernelspec": {
   "display_name": "Python 3",
   "language": "python",
   "name": "python3"
  },
  "language_info": {
   "codemirror_mode": {
    "name": "ipython",
    "version": 3
   },
   "file_extension": ".py",
   "mimetype": "text/x-python",
   "name": "python",
   "nbconvert_exporter": "python",
   "pygments_lexer": "ipython3",
   "version": "3.7.0"
  }
 },
 "nbformat": 4,
 "nbformat_minor": 1
}
