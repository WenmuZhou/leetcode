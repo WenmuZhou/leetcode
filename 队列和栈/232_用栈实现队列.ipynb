{
 "cells": [
  {
   "cell_type": "markdown",
   "metadata": {},
   "source": [
    "此题为leetcode [第232题](https://leetcode-cn.com/problems/implement-queue-using-stacks/)"
   ]
  },
  {
   "cell_type": "markdown",
   "metadata": {},
   "source": [
    "思路如下\n",
    "\n",
    "使用两个栈实现\n",
    "![](imgs/232.jpg)"
   ]
  },
  {
   "cell_type": "markdown",
   "metadata": {},
   "source": [
    "代码"
   ]
  },
  {
   "cell_type": "code",
   "execution_count": 2,
   "metadata": {},
   "outputs": [
    {
     "name": "stdout",
     "output_type": "stream",
     "text": [
      "1 1 False\n"
     ]
    }
   ],
   "source": [
    "# -*- coding: utf-8 -*-\n",
    "# @Time    : 2018/11/18 10:56\n",
    "# @Author  : zhoujun\n",
    "\n",
    "class MyQueue:\n",
    "\n",
    "    def __init__(self):\n",
    "        \"\"\"\n",
    "        Initialize your data structure here.\n",
    "        \"\"\"\n",
    "        self.stockA=[]\n",
    "        self.stockB=[]\n",
    "\n",
    "    def push(self, x):\n",
    "        \"\"\"\n",
    "        Push element x to the back of queue.\n",
    "        :type x: int\n",
    "        :rtype: void\n",
    "        \"\"\"\n",
    "        self.stockA.append(x)\n",
    "\n",
    "    def pop(self):\n",
    "        \"\"\"\n",
    "        Removes the element from in front of queue and returns that element.\n",
    "        :rtype: int\n",
    "        \"\"\"\n",
    "        if self.stockB==[]:\n",
    "            if self.stockA==[]:\n",
    "                return None\n",
    "            else:\n",
    "                for i in range(len(self.stockA)):\n",
    "                    self.stockB.append(self.stockA.pop())\n",
    "        return self.stockB.pop()\n",
    "\n",
    "    def peek(self):\n",
    "        \"\"\"\n",
    "        Get the front element.\n",
    "        :rtype: int\n",
    "        \"\"\"\n",
    "        if self.stockB==[]:\n",
    "            if self.stockA==[]:\n",
    "                return None\n",
    "            else:\n",
    "                for i in range(len(self.stockA)):\n",
    "                    self.stockB.append(self.stockA.pop())\n",
    "        if self.empty():\n",
    "            return\n",
    "        return self.stockB[-1]\n",
    "\n",
    "    def empty(self):\n",
    "        \"\"\"\n",
    "        Returns whether the queue is empty.\n",
    "        :rtype: bool\n",
    "        \"\"\"\n",
    "        return len(self.stockA) == 0 and len(self.stockB) == 0\n",
    "\n",
    "if __name__ == '__main__':\n",
    "    obj = MyQueue()\n",
    "    obj.push(1)\n",
    "    obj.push(2)\n",
    "    param_2 = obj.peek()\n",
    "    param_3 = obj.pop()\n",
    "    param_4 = obj.empty()\n",
    "    print(param_2,param_3,param_4)"
   ]
  },
  {
   "cell_type": "code",
   "execution_count": null,
   "metadata": {},
   "outputs": [],
   "source": []
  }
 ],
 "metadata": {
  "kernelspec": {
   "display_name": "Python 3",
   "language": "python",
   "name": "python3"
  },
  "language_info": {
   "codemirror_mode": {
    "name": "ipython",
    "version": 3
   },
   "file_extension": ".py",
   "mimetype": "text/x-python",
   "name": "python",
   "nbconvert_exporter": "python",
   "pygments_lexer": "ipython3",
   "version": "3.7.0"
  }
 },
 "nbformat": 4,
 "nbformat_minor": 2
}
