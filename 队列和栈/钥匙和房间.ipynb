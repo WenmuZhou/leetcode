{
 "cells": [
  {
   "cell_type": "markdown",
   "metadata": {},
   "source": [
    "## 钥匙和房间 [841](https://leetcode-cn.com/problems/keys-and-rooms/)\n",
    "\n",
    "解题思路：两种方法 1，BFS 2，DFS\n",
    "此题BFS更快些"
   ]
  },
  {
   "cell_type": "code",
   "execution_count": 4,
   "metadata": {},
   "outputs": [],
   "source": [
    "#BFS\n",
    "class Solution:\n",
    "    def canVisitAllRooms(rooms):\n",
    "        todo = [0] #现在所在的房间，初始化为0号房间\n",
    "        done = [0] # 已经进入过的房间，刚开始时也是0号\n",
    "        while todo:\n",
    "            i = todo.pop()\n",
    "            for j in rooms[i]:\n",
    "                #如果当前房间里的钥匙对应的房间不在已经参观过的\n",
    "                #房间集合中，下一步便去参观那个房间\n",
    "                if j not in done:\n",
    "                    todo.append(j)\n",
    "                    done.append(j)\n",
    "                    #若所有房间都在已参观的房间之列，可提前结束\n",
    "                    if len(rooms) == len(done):return True\n",
    "        return len(rooms) == len(done)"
   ]
  },
  {
   "cell_type": "code",
   "execution_count": 6,
   "metadata": {},
   "outputs": [
    {
     "data": {
      "text/plain": [
       "True"
      ]
     },
     "execution_count": 6,
     "metadata": {},
     "output_type": "execute_result"
    }
   ],
   "source": [
    "s=Solution()\n",
    "s.canVisitAllRooms([[1], [2], [3], []])"
   ]
  },
  {
   "cell_type": "code",
   "execution_count": 8,
   "metadata": {},
   "outputs": [],
   "source": [
    "#DFS\n",
    "class Solution:\n",
    "    def canVisitAllRooms(self, rooms):\n",
    "        \"\"\"\n",
    "        :type rooms: List[List[int]]\n",
    "        :rtype: bool\n",
    "        \"\"\"\n",
    "        visited = [0] * len(rooms)\n",
    "        self.dfs(rooms, 0, visited)\n",
    "        return sum(visited) == len(rooms)\n",
    "\n",
    "    def dfs(self, rooms, index, visited):\n",
    "        visited[index] = 1\n",
    "        for key in rooms[index]:\n",
    "            if not visited[key]:\n",
    "                self.dfs(rooms, key, visited)"
   ]
  },
  {
   "cell_type": "code",
   "execution_count": 9,
   "metadata": {},
   "outputs": [
    {
     "data": {
      "text/plain": [
       "True"
      ]
     },
     "execution_count": 9,
     "metadata": {},
     "output_type": "execute_result"
    }
   ],
   "source": [
    "s=Solution()\n",
    "s.canVisitAllRooms([[1], [2], [3], []])"
   ]
  }
 ],
 "metadata": {
  "kernelspec": {
   "display_name": "Python 3",
   "language": "python",
   "name": "python3"
  },
  "language_info": {
   "codemirror_mode": {
    "name": "ipython",
    "version": 3
   },
   "file_extension": ".py",
   "mimetype": "text/x-python",
   "name": "python",
   "nbconvert_exporter": "python",
   "pygments_lexer": "ipython3",
   "version": "3.5.2"
  }
 },
 "nbformat": 4,
 "nbformat_minor": 2
}
