{
 "cells": [
  {
   "cell_type": "markdown",
   "metadata": {
    "collapsed": true
   },
   "source": [
    "此题为leetcode [第622题](https://leetcode-cn.com/problems/design-circular-queue/)"
   ]
  },
  {
   "cell_type": "markdown",
   "metadata": {},
   "source": [
    "设计要点：只需要记住队列是一种先进先出的形式，并且注意边界条件即可\n",
    "\n",
    "代码如下"
   ]
  },
  {
   "cell_type": "code",
   "execution_count": 1,
   "metadata": {},
   "outputs": [],
   "source": [
    "class MyCircularQueue:\n",
    "\n",
    "    def __init__(self, k):\n",
    "        \"\"\"\n",
    "        Initialize your data structure here. Set the size of the queue to be k.\n",
    "        :type k: int\n",
    "        \"\"\"\n",
    "        self.quene = [0 for i in range(k)]\n",
    "        self.start = -1\n",
    "        self.end = -1\n",
    "        self.k = k\n",
    "\n",
    "    def enQueue(self, value):\n",
    "        \"\"\"\n",
    "        Insert an element into the circular queue. Return true if the operation is successful.\n",
    "        :type value: int\n",
    "        :rtype: bool\n",
    "        \"\"\"\n",
    "        if self.isFull():\n",
    "            return False\n",
    "        if self.isEmpty():\n",
    "            self.start = 0\n",
    "        self.end = (self.end + 1) % self.k\n",
    "        self.quene[self.end] = value\n",
    "        return True\n",
    "\n",
    "    def deQueue(self):\n",
    "        \"\"\"\n",
    "        Delete an element from the circular queue. Return true if the operation is successful.\n",
    "        :rtype: bool\n",
    "        \"\"\"\n",
    "        if self.isEmpty():\n",
    "            return False\n",
    "        if self.start == self.end:\n",
    "            self.start = -1\n",
    "            self.end = -1\n",
    "            return True\n",
    "        self.start = (self.start + 1) % self.k\n",
    "        return True\n",
    "\n",
    "    def Front(self):\n",
    "        \"\"\"\n",
    "        Get the front item from the queue.\n",
    "        :rtype: int\n",
    "        \"\"\"\n",
    "        if self.isEmpty():\n",
    "            return -1\n",
    "        return self.quene[self.start]\n",
    "\n",
    "    def Rear(self):\n",
    "        \"\"\"\n",
    "        Get the last item from the queue.\n",
    "        :rtype: int\n",
    "        \"\"\"\n",
    "        if self.isEmpty():\n",
    "            return -1\n",
    "        return self.quene[self.end]\n",
    "\n",
    "    def isEmpty(self):\n",
    "        \"\"\"\n",
    "        Checks whether the circular queue is empty or not.\n",
    "        :rtype: bool\n",
    "        \"\"\"\n",
    "        return self.start == -1\n",
    "\n",
    "    def isFull(self):\n",
    "        \"\"\"\n",
    "        Checks whether the circular queue is full or not.\n",
    "        :rtype: bool\n",
    "        \"\"\"\n",
    "        return (self.end + 1) % self.k == self.start"
   ]
  },
  {
   "cell_type": "code",
   "execution_count": 2,
   "metadata": {},
   "outputs": [
    {
     "name": "stdout",
     "output_type": "stream",
     "text": [
      "True\n6\n6\nTrue\nTrue\n5\nTrue\n-1\nFalse\nFalse\nFalse\n"
     ]
    }
   ],
   "source": [
    "circularQueue = MyCircularQueue(6)\n",
    "print(circularQueue.enQueue(6))\n",
    "print(circularQueue.Rear())\n",
    "print(circularQueue.Rear())\n",
    "print(circularQueue.deQueue())\n",
    "print(circularQueue.enQueue(5))\n",
    "print(circularQueue.Rear())\n",
    "print(circularQueue.deQueue())\n",
    "print(circularQueue.Front())\n",
    "print(circularQueue.deQueue())\n",
    "print(circularQueue.deQueue())\n",
    "print(circularQueue.deQueue())"
   ]
  },
  {
   "cell_type": "code",
   "execution_count": null,
   "metadata": {},
   "outputs": [],
   "source": []
  }
 ],
 "metadata": {
  "kernelspec": {
   "display_name": "Python 2",
   "language": "python",
   "name": "python2"
  },
  "language_info": {
   "codemirror_mode": {
    "name": "ipython",
    "version": 2
   },
   "file_extension": ".py",
   "mimetype": "text/x-python",
   "name": "python",
   "nbconvert_exporter": "python",
   "pygments_lexer": "ipython2",
   "version": "2.7.6"
  }
 },
 "nbformat": 4,
 "nbformat_minor": 0
}
